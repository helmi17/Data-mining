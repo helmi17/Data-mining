{
 "cells": [
  {
   "cell_type": "code",
   "execution_count": 2,
   "metadata": {},
   "outputs": [
    {
     "name": "stdout",
     "output_type": "stream",
     "text": [
      "('Kuartil awal = ', tinggi badan    168.0\n",
      "Name: 0.25, dtype: float64)\n",
      " \n",
      "('Kuartil tengah = ', tinggi badan    171.0\n",
      "Name: 0.5, dtype: float64)\n",
      " \n",
      "('Kuartil tengah = ', tinggi badan    176.0\n",
      "Name: 0.75, dtype: float64)\n",
      " \n"
     ]
    },
    {
     "name": "stderr",
     "output_type": "stream",
     "text": [
      "C:\\Users\\helmi\\Anaconda2\\lib\\site-packages\\matplotlib\\axes\\_axes.py:6462: UserWarning: The 'normed' kwarg is deprecated, and has been replaced by the 'density' kwarg.\n",
      "  warnings.warn(\"The 'normed' kwarg is deprecated, and has been \"\n",
      "C:\\Users\\helmi\\Anaconda2\\lib\\site-packages\\matplotlib\\axes\\_axes.py:6462: UserWarning: The 'normed' kwarg is deprecated, and has been replaced by the 'density' kwarg.\n",
      "  warnings.warn(\"The 'normed' kwarg is deprecated, and has been \"\n",
      "C:\\Users\\helmi\\Anaconda2\\lib\\site-packages\\matplotlib\\axes\\_axes.py:6462: UserWarning: The 'normed' kwarg is deprecated, and has been replaced by the 'density' kwarg.\n",
      "  warnings.warn(\"The 'normed' kwarg is deprecated, and has been \"\n",
      "C:\\Users\\helmi\\Anaconda2\\lib\\site-packages\\matplotlib\\axes\\_axes.py:6462: UserWarning: The 'normed' kwarg is deprecated, and has been replaced by the 'density' kwarg.\n",
      "  warnings.warn(\"The 'normed' kwarg is deprecated, and has been \"\n"
     ]
    },
    {
     "name": "stdout",
     "output_type": "stream",
     "text": [
      "('Kuartil awal = ', berat badan    58.0\n",
      "Name: 0.25, dtype: float64)\n",
      " \n",
      "('Kuartil tengah = ', berat badan    61.0\n",
      "Name: 0.5, dtype: float64)\n",
      " \n",
      "('Kuartil tengah = ', berat badan    66.0\n",
      "Name: 0.75, dtype: float64)\n",
      " \n",
      "('Kuartil awal = ', Umur    18.0\n",
      "Name: 0.25, dtype: float64)\n",
      " \n",
      "('Kuartil tengah = ', Umur    19.0\n",
      "Name: 0.5, dtype: float64)\n",
      " \n",
      "('Kuartil tengah = ', Umur    20.0\n",
      "Name: 0.75, dtype: float64)\n",
      " \n",
      "('Kuartil awal = ', Nilai Tes    69.0\n",
      "Name: 0.25, dtype: float64)\n",
      " \n",
      "('Kuartil tengah = ', Nilai Tes    74.0\n",
      "Name: 0.5, dtype: float64)\n",
      " \n",
      "('Kuartil tengah = ', Nilai Tes    81.0\n",
      "Name: 0.75, dtype: float64)\n",
      " \n"
     ]
    },
    {
     "data": {
      "image/png": "[encoded data removed]",
      "text/plain": [
       "<Figure size 432x288 with 1 Axes>"
      ]
     },
     "metadata": {},
     "output_type": "display_data"
    }
   ],
   "source": [
    "import numpy as ip\n",
    "import seaborn as sea\n",
    "import matplotlib.pyplot as mat\n",
    "from scipy import stats\n",
    "import pandas as data\n",
    "\n",
    "for i in range(4):\n",
    "    cek1=data.read_csv(\"tugas 1.csv\",usecols=[i])\n",
    "    Q1= cek1.quantile(0.25)\n",
    "    print(\"Kuartil awal = \",Q1)\n",
    "    print(\" \")\n",
    "    Q2= cek1.quantile(0.50)\n",
    "    print(\"Kuartil tengah = \",Q2)\n",
    "    print(\" \")\n",
    "    Q3= cek1.quantile(0.75)\n",
    "    print(\"Kuartil tengah = \",Q3)\n",
    "    print(\" \")\n",
    "    sea.distplot(cek1);"
   ]
  },
  {
   "cell_type": "code",
   "execution_count": null,
   "metadata": {},
   "outputs": [],
   "source": []
  },
  {
   "cell_type": "code",
   "execution_count": null,
   "metadata": {},
   "outputs": [],
   "source": []
  }
 ],
 "metadata": {
  "kernelspec": {
   "display_name": "Python 2",
   "language": "python",
   "name": "python2"
  },
  "language_info": {
   "codemirror_mode": {
    "name": "ipython",
    "version": 2
   },
   "file_extension": ".py",
   "mimetype": "text/x-python",
   "name": "python",
   "nbconvert_exporter": "python",
   "pygments_lexer": "ipython2",
   "version": "2.7.15"
  }
 },
 "nbformat": 4,
 "nbformat_minor": 2
}
